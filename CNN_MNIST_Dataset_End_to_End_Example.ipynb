{
  "nbformat": 4,
  "nbformat_minor": 0,
  "metadata": {
    "colab": {
      "provenance": [],
      "authorship_tag": "ABX9TyNXGHP2qyqfMagE8qFW1Sid",
      "include_colab_link": true
    },
    "kernelspec": {
      "name": "python3",
      "display_name": "Python 3"
    },
    "language_info": {
      "name": "python"
    }
  },
  "cells": [
    {
      "cell_type": "markdown",
      "metadata": {
        "id": "view-in-github",
        "colab_type": "text"
      },
      "source": [
        "<a href=\"https://colab.research.google.com/github/suranimayur/Advance-Seaborn-for-Data-Visualization-End-to-End-Implementation-Guide-Template/blob/main/CNN_MNIST_Dataset_End_to_End_Example.ipynb\" target=\"_parent\"><img src=\"https://colab.research.google.com/assets/colab-badge.svg\" alt=\"Open In Colab\"/></a>"
      ]
    },
    {
      "cell_type": "code",
      "execution_count": 8,
      "metadata": {
        "id": "IwlibelALsTt"
      },
      "outputs": [],
      "source": [
        "import tensorflow as tf\n",
        "import tensorflow_datasets as tfds"
      ]
    },
    {
      "cell_type": "markdown",
      "source": [
        "## Downloading and Preprocessing Data"
      ],
      "metadata": {
        "id": "1Ji8fgxMMF5l"
      }
    },
    {
      "cell_type": "code",
      "source": [
        "BUFFER_SIZE= 70_000\n",
        "BATCH_SIZE = 128\n",
        "NUM_EPOCHS = 20"
      ],
      "metadata": {
        "id": "gW_xvxCeQvMA"
      },
      "execution_count": 9,
      "outputs": []
    },
    {
      "cell_type": "code",
      "source": [
        "mnist_dataset,mnist_info = tfds.load(name=\"mnist\",with_info=True,as_supervised=True)"
      ],
      "metadata": {
        "id": "rPGe-_-YRD-9"
      },
      "execution_count": 17,
      "outputs": []
    },
    {
      "cell_type": "markdown",
      "source": [
        "It contains training and testing data"
      ],
      "metadata": {
        "id": "zbv9-V9G7ugj"
      }
    },
    {
      "cell_type": "code",
      "source": [
        "mnist_train,mnist_test = mnist_dataset[\"train\"], mnist_dataset[\"test\"]"
      ],
      "metadata": {
        "id": "009imp2p70jp"
      },
      "execution_count": 18,
      "outputs": []
    },
    {
      "cell_type": "markdown",
      "source": [
        "Create Function scale to normalize image"
      ],
      "metadata": {
        "id": "XX1T85tD8jRO"
      }
    },
    {
      "cell_type": "code",
      "source": [
        "def scale(image,label):\n",
        "  image = tf.cast(image,tf.float32)\n",
        "  image /= 255.0\n",
        "\n",
        "  return image, label"
      ],
      "metadata": {
        "id": "MjmryBSY8skt"
      },
      "execution_count": 19,
      "outputs": []
    },
    {
      "cell_type": "code",
      "source": [
        "train_and_validation_data = mnist_train.map(scale)\n",
        "\n",
        "test_data = mnist_test.map(scale)"
      ],
      "metadata": {
        "id": "w15v_aT985HP"
      },
      "execution_count": 46,
      "outputs": []
    },
    {
      "cell_type": "code",
      "source": [
        "num_validation_samples = 0.1 * mnist_info.splits[\"train\"].num_examples\n",
        "num_validation_samples = tf.cast(num_validation_samples,tf.int64)"
      ],
      "metadata": {
        "id": "oHgLl0y29ChB"
      },
      "execution_count": 47,
      "outputs": []
    },
    {
      "cell_type": "code",
      "source": [
        "num_test_samples = mnist_info.splits[\"test\"].num_examples\n",
        "num_test_samples = tf.cast(num_test_samples,tf.int64)"
      ],
      "metadata": {
        "id": "ljrMcQRc9bpc"
      },
      "execution_count": 48,
      "outputs": []
    },
    {
      "cell_type": "code",
      "source": [
        "train_and_validation_data = train_and_validation_data.shuffle(BUFFER_SIZE)"
      ],
      "metadata": {
        "id": "Lwh7bD_q9yjW"
      },
      "execution_count": 49,
      "outputs": []
    },
    {
      "cell_type": "code",
      "source": [
        "train_data = train_and_validation_data.skip(num_validation_samples)\n",
        "validation_data = train_and_validation_data.take(num_validation_samples)\n",
        "\n"
      ],
      "metadata": {
        "id": "Rn2aeexv-dEV"
      },
      "execution_count": 50,
      "outputs": []
    },
    {
      "cell_type": "code",
      "source": [
        "train_data = train_data.batch(BATCH_SIZE)\n",
        "validation_data= validation_data.batch(num_validation_samples)\n",
        "\n",
        "test_data = test_data.batch(num_test_samples)"
      ],
      "metadata": {
        "id": "seaq-CIv-4Tl"
      },
      "execution_count": 51,
      "outputs": []
    },
    {
      "cell_type": "markdown",
      "source": [
        "## Creating Model and Training it"
      ],
      "metadata": {
        "id": "2QEpcgg8_vv1"
      }
    },
    {
      "cell_type": "code",
      "source": [
        "model = tf.keras.Sequential([\n",
        "    tf.keras.layers.Conv2D(50,5,activation=\"relu\",input_shape=(28,28,1)),\n",
        "    tf.keras.layers.MaxPooling2D(pool_size=(2,2)),\n",
        "    tf.keras.layers.Conv2D(50,3,activation=\"relu\"),\n",
        "    tf.keras.layers.MaxPooling2D(pool_size=(2,2)),\n",
        "    tf.keras.layers.Flatten(),\n",
        "    tf.keras.layers.Dense(10)\n",
        "\n",
        "])"
      ],
      "metadata": {
        "id": "93XPpRZIAHTJ"
      },
      "execution_count": 52,
      "outputs": []
    },
    {
      "cell_type": "code",
      "source": [
        "model.summary(line_length=75)"
      ],
      "metadata": {
        "colab": {
          "base_uri": "https://localhost:8080/"
        },
        "id": "E1SLNNJrA0B_",
        "outputId": "bd918491-a355-42f7-d472-1beaea1d16de"
      },
      "execution_count": 53,
      "outputs": [
        {
          "output_type": "stream",
          "name": "stdout",
          "text": [
            "Model: \"sequential_1\"\n",
            "___________________________________________________________________________\n",
            " Layer (type)                    Output Shape                  Param #     \n",
            "===========================================================================\n",
            " conv2d_5 (Conv2D)               (None, 24, 24, 50)            1300        \n",
            "                                                                           \n",
            " max_pooling2d_3 (MaxPooling2D)  (None, 12, 12, 50)            0           \n",
            "                                                                           \n",
            " conv2d_6 (Conv2D)               (None, 10, 10, 50)            22550       \n",
            "                                                                           \n",
            " max_pooling2d_4 (MaxPooling2D)  (None, 5, 5, 50)              0           \n",
            "                                                                           \n",
            " flatten_1 (Flatten)             (None, 1250)                  0           \n",
            "                                                                           \n",
            " dense_1 (Dense)                 (None, 10)                    12510       \n",
            "                                                                           \n",
            "===========================================================================\n",
            "Total params: 36,360\n",
            "Trainable params: 36,360\n",
            "Non-trainable params: 0\n",
            "___________________________________________________________________________\n"
          ]
        }
      ]
    },
    {
      "cell_type": "code",
      "source": [
        "loss_fn = tf.keras.losses.SparseCategoricalCrossentropy(from_logits=True)"
      ],
      "metadata": {
        "id": "-lXHDkQoBC5K"
      },
      "execution_count": 54,
      "outputs": []
    },
    {
      "cell_type": "code",
      "source": [
        "model.compile(optimizer=\"adam\",\n",
        "              loss= loss_fn,\n",
        "              metrics=[\"accuracy\"])"
      ],
      "metadata": {
        "id": "thoWve8YCSjj"
      },
      "execution_count": 55,
      "outputs": []
    },
    {
      "cell_type": "code",
      "source": [
        "early_stopping = tf.keras.callbacks.EarlyStopping(\n",
        "    monitor = \"val_loss\",\n",
        "    mode=\"auto\",\n",
        "    min_delta= 0,\n",
        "    patience = 2,\n",
        "    verbose =0,\n",
        "    restore_best_weights=True\n",
        "\n",
        ")"
      ],
      "metadata": {
        "id": "mC2V3nbCClmq"
      },
      "execution_count": 56,
      "outputs": []
    },
    {
      "cell_type": "code",
      "source": [
        "model.fit(\n",
        "    train_data,\n",
        "    epochs= NUM_EPOCHS,\n",
        "    callbacks=[early_stopping],\n",
        "    validation_data= validation_data,\n",
        "    verbose=2\n",
        ")"
      ],
      "metadata": {
        "colab": {
          "base_uri": "https://localhost:8080/"
        },
        "id": "V3muCwIfDJfv",
        "outputId": "b326d74e-3060-444d-f851-cdbe3f1a8791"
      },
      "execution_count": 57,
      "outputs": [
        {
          "output_type": "stream",
          "name": "stdout",
          "text": [
            "Epoch 1/20\n",
            "422/422 - 69s - loss: 0.2662 - accuracy: 0.9261 - val_loss: 0.0880 - val_accuracy: 0.9740 - 69s/epoch - 163ms/step\n",
            "Epoch 2/20\n",
            "422/422 - 64s - loss: 0.0672 - accuracy: 0.9799 - val_loss: 0.0485 - val_accuracy: 0.9848 - 64s/epoch - 152ms/step\n",
            "Epoch 3/20\n",
            "422/422 - 64s - loss: 0.0521 - accuracy: 0.9846 - val_loss: 0.0405 - val_accuracy: 0.9873 - 64s/epoch - 151ms/step\n",
            "Epoch 4/20\n",
            "422/422 - 65s - loss: 0.0421 - accuracy: 0.9869 - val_loss: 0.0452 - val_accuracy: 0.9867 - 65s/epoch - 153ms/step\n",
            "Epoch 5/20\n",
            "422/422 - 64s - loss: 0.0347 - accuracy: 0.9893 - val_loss: 0.0272 - val_accuracy: 0.9907 - 64s/epoch - 151ms/step\n",
            "Epoch 6/20\n",
            "422/422 - 65s - loss: 0.0303 - accuracy: 0.9904 - val_loss: 0.0228 - val_accuracy: 0.9920 - 65s/epoch - 153ms/step\n",
            "Epoch 7/20\n",
            "422/422 - 63s - loss: 0.0280 - accuracy: 0.9914 - val_loss: 0.0187 - val_accuracy: 0.9943 - 63s/epoch - 149ms/step\n",
            "Epoch 8/20\n",
            "422/422 - 62s - loss: 0.0243 - accuracy: 0.9924 - val_loss: 0.0206 - val_accuracy: 0.9943 - 62s/epoch - 148ms/step\n",
            "Epoch 9/20\n",
            "422/422 - 64s - loss: 0.0207 - accuracy: 0.9934 - val_loss: 0.0168 - val_accuracy: 0.9943 - 64s/epoch - 152ms/step\n",
            "Epoch 10/20\n",
            "422/422 - 63s - loss: 0.0195 - accuracy: 0.9940 - val_loss: 0.0111 - val_accuracy: 0.9968 - 63s/epoch - 150ms/step\n",
            "Epoch 11/20\n",
            "422/422 - 63s - loss: 0.0166 - accuracy: 0.9946 - val_loss: 0.0128 - val_accuracy: 0.9965 - 63s/epoch - 150ms/step\n",
            "Epoch 12/20\n",
            "422/422 - 62s - loss: 0.0137 - accuracy: 0.9954 - val_loss: 0.0122 - val_accuracy: 0.9952 - 62s/epoch - 148ms/step\n"
          ]
        },
        {
          "output_type": "execute_result",
          "data": {
            "text/plain": [
              "<keras.callbacks.History at 0x79dab749c2b0>"
            ]
          },
          "metadata": {},
          "execution_count": 57
        }
      ]
    },
    {
      "cell_type": "markdown",
      "source": [
        "## Testing our Model"
      ],
      "metadata": {
        "id": "H4py7JEIDcw8"
      }
    },
    {
      "cell_type": "code",
      "source": [
        "## Testing our model\n",
        "\n",
        "test_loss, test_accuracy = model.evaluate(test_data)"
      ],
      "metadata": {
        "colab": {
          "base_uri": "https://localhost:8080/"
        },
        "id": "uYwnmSZFLPC3",
        "outputId": "89f06b0e-686b-4dcb-9434-39c2c64f5be8"
      },
      "execution_count": 58,
      "outputs": [
        {
          "output_type": "stream",
          "name": "stdout",
          "text": [
            "1/1 [==============================] - 8s 8s/step - loss: 0.0259 - accuracy: 0.9911\n"
          ]
        }
      ]
    },
    {
      "cell_type": "markdown",
      "source": [],
      "metadata": {
        "id": "tFY0IC40LjCJ"
      }
    },
    {
      "cell_type": "code",
      "source": [
        "## Print the test results\n",
        "\n",
        "print(\"Test Loss    : {0: .4f}. \\nTest Accuracy: {1: .2f}%\".format(test_loss,test_accuracy*100))"
      ],
      "metadata": {
        "colab": {
          "base_uri": "https://localhost:8080/"
        },
        "id": "n_pvOsYHLWVM",
        "outputId": "6ef481e6-cdd9-47d3-bdc9-2689df00c341"
      },
      "execution_count": 66,
      "outputs": [
        {
          "output_type": "stream",
          "name": "stdout",
          "text": [
            "Test Loss    :  0.0259. \n",
            "Test Accuracy:  99.11%\n"
          ]
        }
      ]
    },
    {
      "cell_type": "markdown",
      "source": [
        "## Ploting Image and results"
      ],
      "metadata": {
        "id": "gXEeJ3uwLxHA"
      }
    },
    {
      "cell_type": "code",
      "source": [
        "import matplotlib.pyplot as plt\n",
        "import numpy"
      ],
      "metadata": {
        "id": "VFptGMwWMLmt"
      },
      "execution_count": 76,
      "outputs": []
    },
    {
      "cell_type": "code",
      "source": [
        "test_data"
      ],
      "metadata": {
        "colab": {
          "base_uri": "https://localhost:8080/"
        },
        "id": "aLjMTFXWNCTB",
        "outputId": "1df9a5aa-2dee-4120-a3aa-3d5c5cadb2ea"
      },
      "execution_count": 70,
      "outputs": [
        {
          "output_type": "execute_result",
          "data": {
            "text/plain": [
              "<_BatchDataset element_spec=(TensorSpec(shape=(None, 28, 28, 1), dtype=tf.float32, name=None), TensorSpec(shape=(None,), dtype=tf.int64, name=None))>"
            ]
          },
          "metadata": {},
          "execution_count": 70
        }
      ]
    },
    {
      "cell_type": "code",
      "source": [
        "from sqlalchemy.sql.expression import label\n",
        "## Split the test data into 2 arrays , containing image and corrosponding labels\n",
        "\n",
        "for images, labels in test_data.take(1):\n",
        "  images_test = images.numpy()\n",
        "  labels_test = labels.numpy()\n",
        "\n",
        "\n",
        "## Reshape the images into 28*28 form\n",
        "\n",
        "image_plot = np.reshape(images_test,(10000,28,28))"
      ],
      "metadata": {
        "id": "9TQ554n1MO_5"
      },
      "execution_count": 87,
      "outputs": []
    },
    {
      "cell_type": "markdown",
      "source": [
        "## Image to Display"
      ],
      "metadata": {
        "id": "Xz3rM8HeM689"
      }
    },
    {
      "cell_type": "code",
      "source": [
        "i = 856\n",
        "\n",
        "\n",
        "#plot image\n",
        "\n",
        "plt.figure(figsize=(2,2))\n",
        "plt.axis(\"off\")\n",
        "plt.imshow(image_plot[i-1],cmap=\"gray\",aspect=\"auto\")\n",
        "plt.show()\n",
        "\n",
        "\n",
        "#print the correct labels for image\n",
        "\n",
        "print(\"Label : {}\".format(labels_test[i-1]))"
      ],
      "metadata": {
        "colab": {
          "base_uri": "https://localhost:8080/",
          "height": 209
        },
        "id": "4_0z1Z6JOY1I",
        "outputId": "6a3cf70d-618d-437d-a0eb-888800a47ea8"
      },
      "execution_count": 97,
      "outputs": [
        {
          "output_type": "display_data",
          "data": {
            "text/plain": [
              "<Figure size 200x200 with 1 Axes>"
            ],
            "image/png": "[encoded data removed]"
          },
          "metadata": {}
        },
        {
          "output_type": "stream",
          "name": "stdout",
          "text": [
            "Label : 2\n"
          ]
        }
      ]
    },
    {
      "cell_type": "markdown",
      "source": [
        "## Obtain Model's Prediction"
      ],
      "metadata": {
        "id": "61FG4wkpPi-1"
      }
    },
    {
      "cell_type": "code",
      "source": [
        "predictions = model.predict(images_test[i-1:i])\n",
        "\n",
        "\n",
        "# Convert those predictions into probabilities\n",
        "\n",
        "probabilities = tf.nn.softmax(predictions).numpy()\n",
        "\n",
        "# Convert Probabilities into percentages\n",
        "probabilities = probabilities*100\n",
        "\n",
        "\n",
        "## Create a bar chart to plot this probabilities for each class\n",
        "\n",
        "plt.figure(figsize=(12,5))\n",
        "plt.bar(x=[1,2,3,4,5,6,7,8,9,10],\n",
        "        height=probabilities[0],\n",
        "        tick_label =[i for i in range(0,10)]\n",
        "        )"
      ],
      "metadata": {
        "colab": {
          "base_uri": "https://localhost:8080/",
          "height": 327
        },
        "id": "Hx1Wm_GxPqhM",
        "outputId": "e0c67492-83ca-4df8-fc6d-a5c883f59949"
      },
      "execution_count": 98,
      "outputs": [
        {
          "output_type": "stream",
          "name": "stdout",
          "text": [
            "1/1 [==============================] - 0s 28ms/step\n"
          ]
        },
        {
          "output_type": "execute_result",
          "data": {
            "text/plain": [
              "<BarContainer object of 10 artists>"
            ]
          },
          "metadata": {},
          "execution_count": 98
        },
        {
          "output_type": "display_data",
          "data": {
            "text/plain": [
              "<Figure size 1200x500 with 1 Axes>"
            ],
            "image/png": "[encoded data removed]"
          },
          "metadata": {}
        }
      ]
    },
    {
      "cell_type": "code",
      "source": [],
      "metadata": {
        "id": "rMA6_SFKQZWM"
      },
      "execution_count": null,
      "outputs": []
    }
  ]
}